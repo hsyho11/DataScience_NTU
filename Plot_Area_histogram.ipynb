{
 "cells": [
  {
   "cell_type": "code",
   "execution_count": 1,
   "metadata": {},
   "outputs": [],
   "source": [
    "import pandas as pd\n",
    "import numpy as np\n",
    "import matplotlib.pyplot as plt\n",
    "import seaborn as sns\n",
    "\n",
    "%matplotlib inline\n",
    "\n",
    "\n",
    "\n",
    "genre_glob = {'Asia':['k-pop','c-pop','mandopop','anime','k-indie','chinese indie','anime score','mainland chinese pop',\n",
    "                      'chinese hip hop','k-hop'], \n",
    "               'Europe':['chillhop','electropop','lo-fi beats','baroque','acoustic pop','art pop'],\n",
    "               'America':['pop','alternative r&b','contemporary country','bass trap','alternative hip hop','chamber pop',\n",
    "                         'hip hop','acoustic pop','canadian pop','latin','art pop'],\n",
    "               'Oceania':['australian pop'],\n",
    "               'Other':['none','dance pop','background music','big room','classical','calming instrumental','boy band',\n",
    "                        'compositional ambient','sleep','focus','bebop','cali rap']}\n",
    "\n",
    "genre_asia = {'Madarin':['c-pop','mandopop','chinese indie','chinese hip hop','mainland chinese pop'],\n",
    "            'Taiwan':['taiwan pop','taiwan hip hop','taiwanese pop','taiwan singer-songwriter','taiwan indie'],\n",
    "            'China':['c-pop','mandopop','chinese indie','mainland chinese pop','chinese hip hop'],\n",
    "            'Hong-kong':['c-pop','mandopop','chinese indie','chinese hip hop'],\n",
    "            'Japan':['anime','anime score'],\n",
    "            'Korea':['k-pop','k-indie','k-hop']}\n",
    "\n",
    "genre_america = {'North-America':['pop','adult standards','alternative r&b','contemporary country','bass trap',\n",
    "                                'alternative hip hop','hip hop','art pop'],\n",
    "               'Canada':['canadian pop'],\n",
    "               'South-America':['latin']}\n",
    "\n",
    "genre_europe = {'England':['electropop','lo-fi beats','art pop'],\n",
    "              'Netherlands':['chillhop'],\n",
    "              'Itali':['baroque']}"
   ]
  },
  {
   "cell_type": "code",
   "execution_count": 2,
   "metadata": {},
   "outputs": [],
   "source": [
    "\n",
    "data = pd.read_csv('spotify_unique_ver4.csv')\n",
    "\n",
    "tem = []\n",
    "for i in range(data.shape[0]):\n",
    "    tem.append(data['release_date'][i].split('-')[0])\n",
    "data['release_date'] = tem\n",
    "\n",
    "data = data[data['release_date']!='2020']"
   ]
  },
  {
   "cell_type": "code",
   "execution_count": 3,
   "metadata": {},
   "outputs": [],
   "source": [
    "genre_glob = {'Asia':['k-pop','c-pop','mandopop','anime','k-indie','chinese indie','anime score','mainland chinese pop',\n",
    "                      'chinese hip hop','k-hop'], \n",
    "               'Europe':['chillhop','electropop','lo-fi beats','baroque','acoustic pop','art pop'],\n",
    "               'America':['pop','alternative r&b','contemporary country','bass trap','alternative hip hop','chamber pop',\n",
    "                         'hip hop','acoustic pop','canadian pop','latin','art pop'],\n",
    "               'Oceania':['australian pop'],\n",
    "               'Other':['none','dance pop','background music','big room','classical','calming instrumental','boy band',\n",
    "                        'compositional ambient','sleep','focus','bebop','cali rap']}\n",
    "\n",
    "genre_asia = {'Madarin':['c-pop','mandopop','chinese indie','chinese hip hop','mainland chinese pop'],\n",
    "            'Taiwan':['taiwan pop','taiwan hip hop','taiwanese pop','taiwan singer-songwriter','taiwan indie'],\n",
    "            'China':['c-pop','mandopop','chinese indie','mainland chinese pop','chinese hip hop'],\n",
    "            'Hong-kong':['c-pop','mandopop','chinese indie','chinese hip hop'],\n",
    "            'Japan':['anime','anime score'],\n",
    "            'Korea':['k-pop','k-indie','k-hop']}\n",
    "\n",
    "genre_america = {'North-America':['pop','adult standards','alternative r&b','contemporary country','bass trap',\n",
    "                                'alternative hip hop','hip hop','art pop'],\n",
    "               'Canada':['canadian pop'],\n",
    "               'South-America':['latin']}\n",
    "\n",
    "genre_europe = {'England':['electropop','lo-fi beats','art pop'],\n",
    "              'Netherlands':['chillhop'],\n",
    "              'Itali':['baroque']}"
   ]
  },
  {
   "cell_type": "code",
   "execution_count": 4,
   "metadata": {},
   "outputs": [],
   "source": [
    "def as_feature_pop(data,popularity = 70):\n",
    "    return data[data['popularity'] > popularity].loc[:,['danceability','acousticness', 'energy', 'instrumentalness', 'liveness', 'speechiness', 'valence','key','loudness','tempo','mode', 'artist_popularity']] \n",
    "def as_feature_unpop(data,popularity = 30):\n",
    "    return data[data['popularity'] < popularity].loc[:,['danceability','acousticness', 'energy', 'instrumentalness', 'liveness', 'speechiness', 'valence','key','loudness','tempo','mode', 'artist_popularity']]  \n"
   ]
  },
  {
   "cell_type": "code",
   "execution_count": 30,
   "metadata": {},
   "outputs": [],
   "source": [
    "Data_Asia = data[data['genres'].isin(genre_glob['Asia'])]"
   ]
  },
  {
   "cell_type": "code",
   "execution_count": 31,
   "metadata": {},
   "outputs": [],
   "source": [
    "year = [str(i) for i in range(2019 , 2001, -1)]\n",
    "\n",
    "# 拿到當年的Data並存在Datas裡面\n",
    "def get_year_data(data , number):\n",
    "    return data[data['release_date']== str(number) ]\n",
    "datas = {y :get_year_data(Data_Asia, y) for y in year }"
   ]
  },
  {
   "cell_type": "code",
   "execution_count": 32,
   "metadata": {},
   "outputs": [],
   "source": [
    "data_features_p = {i : as_feature_pop( datas[i] ,datas[i]['popularity'].describe()['75%']) for i in datas}\n",
    "data_features_up = {i : as_feature_unpop( datas[i] ,datas[i]['popularity'].describe()['25%']) for i in datas}"
   ]
  },
  {
   "cell_type": "code",
   "execution_count": 33,
   "metadata": {},
   "outputs": [],
   "source": [
    "def plot_histogram(start_year = 2016 , end_year = 2019, data = data_features_p):\n",
    "    years = []\n",
    "    for i in range(start_year , end_year +1):\n",
    "        years.append(str(i))\n",
    "    plt.subplot(2,2,1)\n",
    "    plt.hist(data[years[0]]['artist_popularity'], bins=10, normed=0, facecolor=\"blue\", edgecolor=\"black\", alpha=0.7)\n",
    "    plt.subplot(2,2,2)\n",
    "    plt.hist(data[years[1]]['artist_popularity'], bins=10, normed=0, facecolor=\"blue\", edgecolor=\"black\", alpha=0.7)\n",
    "    plt.subplot(2,2,3)\n",
    "    plt.hist(data[years[2]]['artist_popularity'], bins=10, normed=0, facecolor=\"blue\", edgecolor=\"black\", alpha=0.7)\n",
    "    plt.subplot(2,2,4)\n",
    "    plt.hist(data[years[3]]['artist_popularity'], bins=10, normed=0, facecolor=\"blue\", edgecolor=\"black\", alpha=0.7)"
   ]
  },
  {
   "cell_type": "code",
   "execution_count": 35,
   "metadata": {},
   "outputs": [
    {
     "data": {
      "image/png": "[encoded data removed]",
      "text/plain": [
       "<matplotlib.figure.Figure at 0x11f256b38>"
      ]
     },
     "metadata": {},
     "output_type": "display_data"
    }
   ],
   "source": [
    "plot_histogram(start_year = 2016 , end_year = 2019, data = data_features_p)"
   ]
  },
  {
   "cell_type": "code",
   "execution_count": 40,
   "metadata": {},
   "outputs": [
    {
     "data": {
      "image/png": "[encoded data removed]",
      "text/plain": [
       "<matplotlib.figure.Figure at 0x11aeaaf28>"
      ]
     },
     "metadata": {},
     "output_type": "display_data"
    }
   ],
   "source": [
    "Data_Europe = data[data['genres'].isin(genre_glob['Europe'])]\n",
    "datas = {y :get_year_data(Data_Europe, y) for y in year }\n",
    "data_features_p = {i : as_feature_pop( datas[i] ,datas[i]['popularity'].describe()['75%']) for i in datas}\n",
    "plot_histogram(start_year = 2016 , end_year = 2019, data = data_features_p)"
   ]
  },
  {
   "cell_type": "code",
   "execution_count": 39,
   "metadata": {},
   "outputs": [
    {
     "data": {
      "image/png": "[encoded data removed]",
      "text/plain": [
       "<matplotlib.figure.Figure at 0x11c05c5c0>"
      ]
     },
     "metadata": {},
     "output_type": "display_data"
    }
   ],
   "source": [
    "Data_America = data[data['genres'].isin(genre_glob['America'])]\n",
    "datas = {y :get_year_data(Data_America, y) for y in year }\n",
    "data_features_p = {i : as_feature_pop( datas[i] ,datas[i]['popularity'].describe()['75%']) for i in datas}\n",
    "plot_histogram(start_year = 2016 , end_year = 2019, data = data_features_p)"
   ]
  },
  {
   "cell_type": "code",
   "execution_count": 42,
   "metadata": {},
   "outputs": [
    {
     "data": {
      "image/png": "[encoded data removed]",
      "text/plain": [
       "<matplotlib.figure.Figure at 0x11d2b8b38>"
      ]
     },
     "metadata": {},
     "output_type": "display_data"
    }
   ],
   "source": [
    "Data_Oceania = data[data['genres'].isin(genre_glob['Oceania'])]\n",
    "datas = {y :get_year_data(Data_Oceania, y) for y in year }\n",
    "data_features_p = {i : as_feature_pop( datas[i] ,datas[i]['popularity'].describe()['75%']) for i in datas}\n",
    "plot_histogram(start_year = 2016 , end_year = 2019, data = data_features_p)"
   ]
  },
  {
   "cell_type": "code",
   "execution_count": 43,
   "metadata": {},
   "outputs": [
    {
     "data": {
      "image/png": "[encoded data removed]",
      "text/plain": [
       "<matplotlib.figure.Figure at 0x121849f98>"
      ]
     },
     "metadata": {},
     "output_type": "display_data"
    }
   ],
   "source": [
    "Data_Other = data[data['genres'].isin(genre_glob['Other'])]\n",
    "datas = {y :get_year_data(Data_Other, y) for y in year }\n",
    "data_features_p = {i : as_feature_pop( datas[i] ,datas[i]['popularity'].describe()['75%']) for i in datas}\n",
    "plot_histogram(start_year = 2016 , end_year = 2019, data = data_features_p)"
   ]
  }
 ],
 "metadata": {
  "kernelspec": {
   "display_name": "Python 3",
   "language": "python",
   "name": "python3"
  },
  "language_info": {
   "codemirror_mode": {
    "name": "ipython",
    "version": 3
   },
   "file_extension": ".py",
   "mimetype": "text/x-python",
   "name": "python",
   "nbconvert_exporter": "python",
   "pygments_lexer": "ipython3",
   "version": "3.6.4"
  }
 },
 "nbformat": 4,
 "nbformat_minor": 2
}
