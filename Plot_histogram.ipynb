{
 "cells": [
  {
   "cell_type": "code",
   "execution_count": 1,
   "metadata": {},
   "outputs": [],
   "source": [
    "import pandas as pd\n",
    "import numpy as np\n",
    "import matplotlib.pyplot as plt\n",
    "import seaborn as sns\n",
    "\n",
    "%matplotlib inline"
   ]
  },
  {
   "cell_type": "markdown",
   "metadata": {},
   "source": [
    "# Data Cleaning\n"
   ]
  },
  {
   "cell_type": "code",
   "execution_count": 2,
   "metadata": {},
   "outputs": [],
   "source": [
    "data = pd.read_csv('spotify_unique_ver4.csv')\n",
    "\n",
    "tem = []\n",
    "for i in range(data.shape[0]):\n",
    "    tem.append(data['release_date'][i].split('-')[0])\n",
    "data['release_date'] = tem\n",
    "\n",
    "data = data[data['release_date']!='2020']"
   ]
  },
  {
   "cell_type": "code",
   "execution_count": 3,
   "metadata": {},
   "outputs": [],
   "source": [
    "\n",
    "def as_feature_pop(data,popularity = 70):\n",
    "    return data[data['popularity'] > popularity].loc[:,['danceability','acousticness', 'energy', 'instrumentalness', 'liveness', 'speechiness', 'valence','key','loudness','tempo','mode', 'artist_popularity']] \n",
    "def as_feature_unpop(data,popularity = 30):\n",
    "    return data[data['popularity'] < popularity].loc[:,['danceability','acousticness', 'energy', 'instrumentalness', 'liveness', 'speechiness', 'valence','key','loudness','tempo','mode', 'artist_popularity']]  \n"
   ]
  },
  {
   "cell_type": "code",
   "execution_count": 5,
   "metadata": {},
   "outputs": [],
   "source": [
    "year = [str(i) for i in range(2019 , 2001, -1)]"
   ]
  },
  {
   "cell_type": "code",
   "execution_count": 8,
   "metadata": {},
   "outputs": [],
   "source": [
    "def get_year_data(data , number):\n",
    "    return data[data['release_date']== str(number) ]"
   ]
  },
  {
   "cell_type": "code",
   "execution_count": 9,
   "metadata": {},
   "outputs": [],
   "source": [
    "datas = {y :get_year_data(data, y) for y in year }"
   ]
  },
  {
   "cell_type": "code",
   "execution_count": 10,
   "metadata": {},
   "outputs": [],
   "source": [
    "data_features_p = {i : as_feature_pop( datas[i] ,datas[i]['popularity'].describe()['75%']) for i in datas}\n",
    "data_features_up = {i : as_feature_unpop( datas[i] ,datas[i]['popularity'].describe()['25%']) for i in datas}"
   ]
  },
  {
   "cell_type": "code",
   "execution_count": 18,
   "metadata": {},
   "outputs": [],
   "source": [
    "def plot_histogram(start_year = 2016 , end_year = 2019, data = data_features_p):\n",
    "    years = []\n",
    "    for i in range(start_year , end_year +1):\n",
    "        years.append(str(i))\n",
    "    plt.subplot(2,2,1)\n",
    "    plt.hist(data[years[0]]['artist_popularity'], bins=10, normed=0, facecolor=\"blue\", edgecolor=\"black\", alpha=0.7)\n",
    "    plt.subplot(2,2,2)\n",
    "    plt.hist(data[years[1]]['artist_popularity'], bins=10, normed=0, facecolor=\"blue\", edgecolor=\"black\", alpha=0.7)\n",
    "    plt.subplot(2,2,3)\n",
    "    plt.hist(data[years[2]]['artist_popularity'], bins=10, normed=0, facecolor=\"blue\", edgecolor=\"black\", alpha=0.7)\n",
    "    plt.subplot(2,2,4)\n",
    "    plt.hist(data[years[3]]['artist_popularity'], bins=10, normed=0, facecolor=\"blue\", edgecolor=\"black\", alpha=0.7)\n",
    "    \n",
    "    "
   ]
  },
  {
   "cell_type": "code",
   "execution_count": 19,
   "metadata": {},
   "outputs": [
    {
     "data": {
      "image/png": "[encoded data removed]",
      "text/plain": [
       "<matplotlib.figure.Figure at 0x123964898>"
      ]
     },
     "metadata": {},
     "output_type": "display_data"
    }
   ],
   "source": [
    "plot_histogram(start_year = 2016 , end_year = 2019, data = data_features_p)"
   ]
  },
  {
   "cell_type": "code",
   "execution_count": null,
   "metadata": {},
   "outputs": [],
   "source": []
  }
 ],
 "metadata": {
  "kernelspec": {
   "display_name": "Python 3",
   "language": "python",
   "name": "python3"
  },
  "language_info": {
   "codemirror_mode": {
    "name": "ipython",
    "version": 3
   },
   "file_extension": ".py",
   "mimetype": "text/x-python",
   "name": "python",
   "nbconvert_exporter": "python",
   "pygments_lexer": "ipython3",
   "version": "3.6.4"
  }
 },
 "nbformat": 4,
 "nbformat_minor": 2
}
